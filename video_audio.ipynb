{
 "cells": [
  {
   "cell_type": "code",
   "execution_count": 9,
   "id": "59beeb3c",
   "metadata": {},
   "outputs": [],
   "source": [
    "from moviepy.editor import *"
   ]
  },
  {
   "cell_type": "code",
   "execution_count": 18,
   "id": "046cd2cc",
   "metadata": {},
   "outputs": [],
   "source": [
    "# video_dir : webm 파일 경로\n",
    "# audio_dir : mp3 파일 경로\n",
    "# video_in_time : mp3 파일을 합성시킬 시점(초)\n",
    "\n",
    "def video_audio(video_dir, audio_dir, video_in_time):\n",
    "    # 오디오 추출\n",
    "    audioclip = AudioFileClip(audio_dir)\n",
    "    # 추출한 오디오의 길이 측정\n",
    "    audio_length = audioclip.duration\n",
    "    # 합성할 비디오 : 비디오에 오디오를 합성할 시작지점부터 오디오 길이만큼 구간 설정\n",
    "    videoclip = VideoFileClip(video_dir).subclip(video_in_time, video_in_time + audio_length)\n",
    "    \n",
    "    # 추출한 비디오에 새로운 오디오 덮어넣기\n",
    "    videoclip = videoclip.set_audio(audioclip)\n",
    "    \n",
    "    # 합성하기 위해 자른 구간을 제외하고 앞부분(video1)과 뒷부분(video3)\n",
    "    video1 = VideoFileClip(video_dir).subclip(0, video_in_time)\n",
    "    video3 = VideoFileClip(video_dir).subclip(video_in_time + audio_length)\n",
    "    \n",
    "    # 세 개로 나뉜 영상 합침\n",
    "    final_clip = concatenate_videoclips([video1, videoclip, video3])\n",
    "    \n",
    "    # 기존 비디오에 맞는 프레임 속도 설정 후 비디오를 새로운 mp4 파일로 저장\n",
    "    fps = videoclip.fps\n",
    "    final_clip.write_videofile(\"my_concatenation_11.mp4\", fps=fps)"
   ]
  },
  {
   "cell_type": "code",
   "execution_count": 19,
   "id": "3d241fd5",
   "metadata": {
    "scrolled": true
   },
   "outputs": [
    {
     "name": "stderr",
     "output_type": "stream",
     "text": [
      "\n",
      "\u001b[A                                                                                                                    \n",
      "chunk:  11%|██████▌                                                       | 21/199 [07:44<1:05:33, 22.10s/it, now=None]\u001b[A\n",
      "\u001b[A                                                                                                                    \n",
      "chunk:  11%|██████▌                                                       | 21/199 [07:44<1:05:33, 22.10s/it, now=None]\u001b[A"
     ]
    },
    {
     "name": "stdout",
     "output_type": "stream",
     "text": [
      "Moviepy - Building video my_concatenation_11.mp4.\n",
      "MoviePy - Writing audio in my_concatenation_11TEMP_MPY_wvf_snd.mp3\n"
     ]
    },
    {
     "name": "stderr",
     "output_type": "stream",
     "text": [
      "                                                                                                                       \n",
      "\u001b[A                                                                                                                    \n",
      "chunk:  11%|██████▌                                                       | 21/199 [07:44<1:05:36, 22.12s/it, now=None]\u001b[A\n",
      "\u001b[A                                                                                                                    \n",
      "chunk:  11%|██████▌                                                       | 21/199 [07:44<1:05:36, 22.12s/it, now=None]\u001b[A"
     ]
    },
    {
     "name": "stdout",
     "output_type": "stream",
     "text": [
      "MoviePy - Done.\n",
      "Moviepy - Writing video my_concatenation_11.mp4\n",
      "\n"
     ]
    },
    {
     "name": "stderr",
     "output_type": "stream",
     "text": [
      "                                                                                                                       \n",
      "\u001b[A                                                                                                                    \n",
      "chunk:  11%|██████▌                                                       | 21/199 [07:45<1:05:46, 22.17s/it, now=None]\u001b[A\n",
      "\u001b[A                                                                                                                    \n",
      "chunk:  11%|██████▌                                                       | 21/199 [07:45<1:05:46, 22.17s/it, now=None]\u001b[A"
     ]
    },
    {
     "name": "stdout",
     "output_type": "stream",
     "text": [
      "Moviepy - Done !\n",
      "Moviepy - video ready my_concatenation_11.mp4\n"
     ]
    }
   ],
   "source": [
    "video_dir = \"C:/Users/sblim/Desktop/sample.webm\"\n",
    "audio_dir = \"C:/Users/sblim/Desktop/car_noise.mp3\"\n",
    "\n",
    "video_audio(video_dir, audio_dir, 15)"
   ]
  }
 ],
 "metadata": {
  "kernelspec": {
   "display_name": "Python 3 (ipykernel)",
   "language": "python",
   "name": "python3"
  },
  "language_info": {
   "codemirror_mode": {
    "name": "ipython",
    "version": 3
   },
   "file_extension": ".py",
   "mimetype": "text/x-python",
   "name": "python",
   "nbconvert_exporter": "python",
   "pygments_lexer": "ipython3",
   "version": "3.10.9"
  }
 },
 "nbformat": 4,
 "nbformat_minor": 5
}
