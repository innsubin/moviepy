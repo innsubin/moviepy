{
 "cells": [
  {
   "cell_type": "code",
   "execution_count": 3,
   "id": "ace071fd-d1a0-4741-8188-8ed7edb23a24",
   "metadata": {},
   "outputs": [
    {
     "name": "stdout",
     "output_type": "stream",
     "text": [
      "141.11959147453308\n"
     ]
    }
   ],
   "source": [
    "import cv2\n",
    "import time\n",
    "import json\n",
    "\n",
    "# JSON 파일 경로\n",
    "json_file_path = 'json파일'\n",
    "\n",
    "# JSON 파일 불러오기\n",
    "with open(json_file_path, 'r') as json_file:\n",
    "    data = json.load(json_file)\n",
    "    \n",
    "input_video_path = 'mp4파일1'\n",
    "output_video_path = 'mp4파일2'\n",
    "\n",
    "fourcc = cv2.VideoWriter_fourcc(*'XVID')\n",
    "\n",
    "start_time = time.time()\n",
    "\n",
    "# 비디오 정보 가져오기\n",
    "video_info = cv2.VideoCapture(input_video_path)\n",
    "width = int(video_info.get(cv2.CAP_PROP_FRAME_WIDTH))\n",
    "height = int(video_info.get(cv2.CAP_PROP_FRAME_HEIGHT))\n",
    "frame_rate = int(video_info.get(cv2.CAP_PROP_FPS)) # frame_rate = 30\n",
    "# 비디오 쓰기 객체 초기화\n",
    "\n",
    "out = cv2.VideoWriter(output_video_path, fourcc, frame_rate, (width, height))\n",
    "\n",
    "for i in range(len(data)):\n",
    "    if data[i]['pass_ratio'] >= 0.7:\n",
    "        start_frame = int(data[i]['start_time'] * frame_rate) \n",
    "        end_frame = int(data[i]['end_time'] * frame_rate)\n",
    "        \n",
    "        video_info.set(cv2.CAP_PROP_POS_FRAMES, start_frame)  # 시작 프레임으로 이동\n",
    "        \n",
    "        for frame_num in range(start_frame, end_frame):\n",
    "            ret, frame = video_info.read()\n",
    "            if not ret:\n",
    "                break\n",
    "            out.write(frame)\n",
    "\n",
    "video_info.release()\n",
    "out.release()\n",
    "\n",
    "print(time.time() - start_time)"
   ]
  }
 ],
 "metadata": {
  "kernelspec": {
   "display_name": "Python 3 (ipykernel)",
   "language": "python",
   "name": "python3"
  },
  "language_info": {
   "codemirror_mode": {
    "name": "ipython",
    "version": 3
   },
   "file_extension": ".py",
   "mimetype": "text/x-python",
   "name": "python",
   "nbconvert_exporter": "python",
   "pygments_lexer": "ipython3",
   "version": "3.7.16"
  }
 },
 "nbformat": 4,
 "nbformat_minor": 5
}
