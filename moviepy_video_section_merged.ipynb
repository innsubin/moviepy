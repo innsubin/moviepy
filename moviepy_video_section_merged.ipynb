{
 "cells": [
  {
   "cell_type": "code",
   "execution_count": null,
   "id": "9cfd0388",
   "metadata": {},
   "outputs": [],
   "source": [
    "# json 파일에서 통과율이 0.7 이상인 구간만 추출하여 이어붙이고 새로운 mp4 파일로 저장\n",
    "from moviepy.editor import *\n",
    "import time\n",
    "import json\n",
    "\n",
    "# JSON 파일 경로\n",
    "json_file_path = 'json파일'\n",
    "\n",
    "# JSON 파일 불러오기\n",
    "with open(json_file_path, 'r') as json_file:\n",
    "    data = json.load(json_file)\n",
    "\n",
    "######################################################\n",
    "\n",
    "video_path = 'mp4파일'\n",
    "video_list = []\n",
    "\n",
    "start_time = time.time()\n",
    "\n",
    "for i in range(len(data)):\n",
    "    if data[i]['pass_ratio'] >= 0.7:\n",
    "        videoclip = VideoFileClip(video_path).subclip(data[i]['start_time'], data[i]['end_time'])\n",
    "        video_list.append(videoclip)\n",
    "\n",
    "final_clip = concatenate_videoclips(video_list)\n",
    "final_clip.fps = 30\n",
    "final_clip.write_videofile('mp4파일')\n",
    "print(time.time()-start_time)"
   ]
  }
 ],
 "metadata": {
  "kernelspec": {
   "display_name": "Python 3 (ipykernel)",
   "language": "python",
   "name": "python3"
  },
  "language_info": {
   "codemirror_mode": {
    "name": "ipython",
    "version": 3
   },
   "file_extension": ".py",
   "mimetype": "text/x-python",
   "name": "python",
   "nbconvert_exporter": "python",
   "pygments_lexer": "ipython3",
   "version": "3.7.16"
  }
 },
 "nbformat": 4,
 "nbformat_minor": 5
}
